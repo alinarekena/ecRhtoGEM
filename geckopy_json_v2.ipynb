{
 "cells": [
  {
   "cell_type": "code",
   "execution_count": null,
   "metadata": {},
   "outputs": [],
   "source": [
    "# pip install escher"
   ]
  },
  {
   "cell_type": "code",
   "execution_count": null,
   "metadata": {},
   "outputs": [],
   "source": [
    "import escher\n",
    "from escher import Builder\n",
    "import cobra"
   ]
  },
  {
   "cell_type": "code",
   "execution_count": null,
   "metadata": {},
   "outputs": [],
   "source": [
    "model=cobra.io.load_matlab_model('ecModel_P_GNlim.mat')\n",
    "model"
   ]
  },
  {
   "cell_type": "code",
   "execution_count": null,
   "metadata": {},
   "outputs": [],
   "source": [
    "#model.reactions.get_by_id(\"r_0006\").upper_bound=1000\n",
    "#...\n",
    "#model.reactions.get_by_id(\"translation\").upper_bound=1000\n",
    "#model.reactions.get_by_id(\"translation\").lower_bound=1000 #otherwise save json error\n",
    "# all 5000+ reactions"
   ]
  },
  {
   "cell_type": "code",
   "execution_count": null,
   "metadata": {},
   "outputs": [],
   "source": [
    "# Check:\n",
    "model.reactions.get_by_id(\"draw_prot_M7Y014\")"
   ]
  },
  {
   "cell_type": "code",
   "execution_count": null,
   "metadata": {},
   "outputs": [],
   "source": [
    "# Save new model into .json file FOR DRAWING ESCHER MAP\n",
    "cobra.io.json.save_json_model(model,'ecModel_P_GNlim.json')\n",
    "\n",
    "#cobra.io.save_matlab_model(model,'ecModel_P_Aexp_test.mat')"
   ]
  },
  {
   "cell_type": "code",
   "execution_count": null,
   "metadata": {},
   "outputs": [],
   "source": []
  }
 ],
 "metadata": {
  "kernelspec": {
   "display_name": "Python 3",
   "language": "python",
   "name": "python3"
  },
  "language_info": {
   "codemirror_mode": {
    "name": "ipython",
    "version": 3
   },
   "file_extension": ".py",
   "mimetype": "text/x-python",
   "name": "python",
   "nbconvert_exporter": "python",
   "pygments_lexer": "ipython3",
   "version": "3.7.3"
  }
 },
 "nbformat": 4,
 "nbformat_minor": 2
}
